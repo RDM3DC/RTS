{
 "cells": [
  {
   "cell_type": "markdown",
   "id": "69604c5f",
   "metadata": {},
   "source": [
    "# Add Kinetic Inductance Modulation (I* = 1 μA)\n",
    "Flux-pumped SQUID (L_J) + kinetic inductance L_k(I)=L_{k0}(1+(I/I*)^2).\n",
    "We compute δn/n and sidebands (dBc) vs I_ac, and a 2D sweep."
   ]
  },
  {
   "cell_type": "code",
   "execution_count": null,
   "id": "360a8150",
   "metadata": {},
   "outputs": [],
   "source": [
    "Phi0=2.067833848e-15\n",
    "I0=3e-06\n",
    "Istar=1e-06\n",
    "Lk0=1.5e-10\n",
    "L_par=2.2e-10\n",
    "C_line=1.2e-10\n",
    "Lseg=0.01\n",
    "f0=6000000000.0\n",
    "vg_nom=120000000.0\n"
   ]
  },
  {
   "cell_type": "code",
   "execution_count": null,
   "id": "5cef17c5",
   "metadata": {},
   "outputs": [],
   "source": [
    "import numpy as np, matplotlib.pyplot as plt\n",
    "from mpmath import besselj\n",
    "\n",
    "def Ic_squid(phi): return 2*I0*abs(np.cos(np.pi*phi/Phi0))\n",
    "\n",
    "def LJ(phi):\n",
    "    Ic = Ic_squid(phi)\n",
    "    Ic = np.maximum(Ic, 1e-12)\n",
    "    return Phi0/(2*np.pi*Ic)\n",
    "\n",
    "def Lk(I): return Lk0*(1.0 + (I/Istar)**2)\n",
    "\n",
    "def delta_n_over_n_flux(phi_dc, phi_ac):\n",
    "    dphi=1e-18\n",
    "    L0 = L_par + LJ(phi_dc) + Lk(0.0)\n",
    "    dLdphi = (LJ(phi_dc + dphi) - LJ(phi_dc - dphi)) / (2*dphi)\n",
    "    m = (dLdphi / L0) * phi_ac\n",
    "    return 0.5*m\n",
    "\n",
    "def delta_n_over_n_kinetic(Idc, Iac):\n",
    "    dLk_dI = Lk0 * 2.0 * Idc / (Istar**2)\n",
    "    L0 = L_par + LJ(0.0) + Lk(Idc)\n",
    "    m = (dLk_dI / L0) * Iac\n",
    "    return 0.5*m\n",
    "\n",
    "def beta_from_dnn(dnn, tau=(Lseg/1.2e8)):\n",
    "    return 2*np.pi*f0 * tau * dnn\n",
    "\n",
    "def dBc_from_beta(beta):\n",
    "    J0=float(besselj(0,beta)); J1=float(besselj(1,beta))\n",
    "    return 10*np.log10(((J1/J0)**2)+1e-30)\n"
   ]
  },
  {
   "cell_type": "code",
   "execution_count": null,
   "id": "27854754",
   "metadata": {},
   "outputs": [],
   "source": [
    "# δn/n vs I_ac for Idc in {0,0.3,0.6,0.9} μA\n",
    "Idc_vals=[0.0e-6,0.3e-6,0.6e-6,0.9e-6]\n",
    "Iac=np.linspace(0,1.0e-6,200)\n",
    "plt.figure(figsize=(7.2,4.4))\n",
    "for Idc in Idc_vals:\n",
    "    dnn=[delta_n_over_n_kinetic(Idc,i) for i in Iac]\n",
    "    plt.plot(Iac*1e6,dnn,label=f\"Idc={Idc*1e6:.1f} μA\")\n",
    "plt.xlabel(\"I_ac (μA)\"); plt.ylabel(\"δn/n (kinetic)\"); plt.legend(); plt.title(\"δn/n vs I_ac (I*=1 μA)\"); plt.show()"
   ]
  },
  {
   "cell_type": "code",
   "execution_count": null,
   "id": "32fa1ea8",
   "metadata": {},
   "outputs": [],
   "source": [
    "# dBc vs I_ac for fixed Φ_dc, Φ_ac; compare flux-only, kinetic-only, combined\n",
    "import numpy as np\n",
    "phi_dc=0.30*Phi0; phi_ac=0.08*Phi0; Idc=0.6e-6\n",
    "Iac=np.linspace(0,1.0e-6,200)\n",
    "flux=[]; kin=[]; combo=[]\n",
    "for i in Iac:\n",
    "    dnn_f=delta_n_over_n_flux(phi_dc,phi_ac); dnn_k=delta_n_over_n_kinetic(Idc,i)\n",
    "    beta_f=beta_from_dnn(dnn_f); beta_k=beta_from_dnn(dnn_k)\n",
    "    from mpmath import besselj\n",
    "    import math\n",
    "    def dBc(b):\n",
    "        J0=float(besselj(0,b)); J1=float(besselj(1,b)); return 10*np.log10(((J1/J0)**2)+1e-30)\n",
    "    flux.append(dBc(beta_f)); kin.append(dBc(beta_k)); combo.append(dBc(beta_f+beta_k))\n",
    "plt.figure(figsize=(7.2,4.4))\n",
    "plt.plot(Iac*1e6,flux,label=\"Flux-only\"); plt.plot(Iac*1e6,kin,label=\"Kinetic-only\"); plt.plot(Iac*1e6,combo,label=\"Combined\")\n",
    "plt.xlabel(\"I_ac (μA)\"); plt.ylabel(\"P±1/P0 (dBc)\"); plt.legend(); plt.title(\"Sidebands vs I_ac — flux vs kinetic vs combined\"); plt.show()"
   ]
  },
  {
   "cell_type": "code",
   "execution_count": null,
   "id": "1b6887ad",
   "metadata": {},
   "outputs": [],
   "source": [
    "# Heatmap sweep (Φ_ac/Φ0, I_ac/μA) → dBc\n",
    "phi_ac_frac=np.linspace(0,0.15,60); Iac_uA=np.linspace(0,1.0,60)\n",
    "Z=np.zeros((len(Iac_uA),len(phi_ac_frac)))\n",
    "phi_dc=0.30*Phi0; Idc=0.6e-6\n",
    "for i,Iu in enumerate(Iac_uA):\n",
    "    for j,pac in enumerate(phi_ac_frac):\n",
    "        dnn_f=delta_n_over_n_flux(phi_dc,pac*Phi0)\n",
    "        dnn_k=delta_n_over_n_kinetic(Idc,Iu*1e-6)\n",
    "        from mpmath import besselj\n",
    "        beta=beta_from_dnn(dnn_f+dnn_k)\n",
    "        J0=float(besselj(0,beta)); J1=float(besselj(1,beta)); ratio=((J1/J0)**2) if J0!=0 else 0.0\n",
    "        Z[i,j]=10*np.log10(ratio+1e-30)\n",
    "import matplotlib.pyplot as plt\n",
    "plt.figure(figsize=(7,4.6))\n",
    "plt.imshow(Z,origin='lower',aspect='auto',extent=[phi_ac_frac[0],phi_ac_frac[-1],Iac_uA[0],Iac_uA[-1]])\n",
    "plt.xlabel(\"Φ_ac/Φ0\"); plt.ylabel(\"I_ac (μA)\"); plt.colorbar(label=\"P±1/P0 (dBc)\"); plt.title(\"Combined dBc heatmap\"); plt.show()"
   ]
  }
 ],
 "metadata": {},
 "nbformat": 4,
 "nbformat_minor": 5
}
