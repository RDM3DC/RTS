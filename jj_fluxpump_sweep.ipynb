{
 "cells": [
  {
   "cell_type": "markdown",
   "id": "b6e9bed9",
   "metadata": {},
   "source": [
    "# JJ/SQUID Flux-Pumped Lattice — πₐ/ARP Sidebands\n",
    "This notebook maps a flux pump \\(\\Phi(t)=\\Phi_{dc}+\\Phi_{ac}\\sin\\Omega t\\) through a SQUID:\n",
    "\\( I_c(\\Phi)=2 I_0 |\\cos(\\pi \\Phi/\\Phi_0)| \\Rightarrow L_J(\\Phi)=\\Phi_0/(2\\pi I_c) \\).\n",
    "With a transmission line section, the per‑unit‑length inductance is \\(L(x,t)=L_{par}+L_J(\\Phi(t))\\) (assuming constant \\(C\\)).\n",
    "To first order, \\(\\delta n/n \\approx \\tfrac12\\, \\delta L/L\\) and the phase modulation index is \\(\\beta \\approx (\\omega_0 \\tau)\\,(\\delta n/n)\\).\n",
    "First sidebands: \\(P_{\\pm1}/P_0 \\approx [J_1(\\beta)/J_0(\\beta)]^2\\)."
   ]
  },
  {
   "cell_type": "code",
   "execution_count": null,
   "id": "897d221d",
   "metadata": {},
   "outputs": [],
   "source": [
    "import numpy as np, matplotlib.pyplot as plt\n",
    "from mpmath import besselj\n",
    "Phi0 = 2.067833848e-15\n",
    "I0 = 3e-06\n",
    "C_line = 1.2e-10\n",
    "L_par = 2.2e-10\n",
    "Lseg = 0.01\n",
    "f0 = 6000000000.0\n",
    "def Ic_squid(phi): return 2*I0*abs(np.cos(np.pi*phi/Phi0))\n",
    "def LJ(phi): \n",
    "    Ic = Ic_squid(phi)\n",
    "    Ic = np.maximum(Ic, 1e-12)\n",
    "    return Phi0/(2*np.pi*Ic)\n",
    "def vg(L,C): return 1/np.sqrt(L*C)\n",
    "def delta_n_over_n(phi_dc, phi_ac):\n",
    "    dphi=1e-18\n",
    "    L0=L_par+LJ(phi_dc)\n",
    "    dLdphi=(LJ(phi_dc+dphi)-LJ(phi_dc-dphi))/(2*dphi)\n",
    "    m=(dLdphi/L0)*phi_ac\n",
    "    return 0.5*m\n",
    "def beta_from_delta_n(dn, v, Lseg, f0): \n",
    "    tau=Lseg/v; return 2*np.pi*f0*tau*dn\n"
   ]
  },
  {
   "cell_type": "markdown",
   "id": "a308d75d",
   "metadata": {},
   "source": [
    "## SQUID $I_c(\\Phi)$ and $L_J(\\Phi)$"
   ]
  },
  {
   "cell_type": "code",
   "execution_count": null,
   "id": "f34d9c8e",
   "metadata": {},
   "outputs": [],
   "source": [
    "phi = np.linspace(0, 0.5, 400)*Phi0\n",
    "Ic = [Ic_squid(p) for p in phi]\n",
    "LJv= [LJ(p) for p in phi]\n",
    "fig,ax=plt.subplots(1,2,figsize=(10,4))\n",
    "ax[0].plot(phi/Phi0, np.array(Ic)/1e-6); ax[0].set_title(\"Ic vs Φ/Φ0\"); ax[0].set_xlabel(\"Φ/Φ0\"); ax[0].set_ylabel(\"μA\")\n",
    "ax[1].plot(phi/Phi0, np.array(LJv)*1e9); ax[1].set_title(\"LJ vs Φ/Φ0\"); ax[1].set_xlabel(\"Φ/Φ0\"); ax[1].set_ylabel(\"nH\")\n",
    "plt.show()"
   ]
  },
  {
   "cell_type": "markdown",
   "id": "f76043b2",
   "metadata": {},
   "source": [
    "## Sideband sweep vs pump amplitude at different DC biases"
   ]
  },
  {
   "cell_type": "code",
   "execution_count": null,
   "id": "2b0f3a85",
   "metadata": {},
   "outputs": [],
   "source": [
    "phi_dc_list=[0.20,0.30,0.45]\n",
    "phi_ac_vals=np.linspace(0,0.2,200)\n",
    "plt.figure(figsize=(7.2,4.4))\n",
    "for phi_dc_frac in phi_dc_list:\n",
    "    vg0=vg(L_par+LJ(phi_dc_frac*Phi0), C_line)\n",
    "    ratios=[]\n",
    "    for phi_ac_frac in phi_ac_vals:\n",
    "        dn=delta_n_over_n(phi_dc_frac*Phi0, phi_ac_frac*Phi0)\n",
    "        beta=beta_from_delta_n(dn, vg0, Lseg, f0)\n",
    "        J0=float(besselj(0,beta)); J1=float(besselj(1,beta))\n",
    "        r=(J1/J0)**2 if J0!=0 else np.nan\n",
    "        ratios.append(10*np.log10(r+1e-30))\n",
    "    plt.plot(phi_ac_vals, ratios, label=f\"Φdc/Φ0={phi_dc_frac:.2f}\")\n",
    "plt.xlabel(\"Φac/Φ0\"); plt.ylabel(\"P±1/P0 (dBc)\"); plt.legend(); plt.title(\"Sideband level vs flux pump\")\n",
    "plt.show()"
   ]
  },
  {
   "cell_type": "markdown",
   "id": "c243884b",
   "metadata": {},
   "source": [
    "## Loss impact (uniform insertion loss across line)"
   ]
  },
  {
   "cell_type": "code",
   "execution_count": null,
   "id": "d3682dad",
   "metadata": {},
   "outputs": [],
   "source": [
    "loss_dB_vals=np.linspace(0,6,25)\n",
    "phi_dc_demo=0.30; phi_ac_demo=0.10\n",
    "vg0=vg(L_par+LJ(phi_dc_demo*Phi0), C_line)\n",
    "dn=delta_n_over_n(phi_dc_demo*Phi0, phi_ac_demo*Phi0)\n",
    "beta=beta_from_delta_n(dn, vg0, Lseg, f0)\n",
    "J0=float(besselj(0,beta)); J1=float(besselj(1,beta))\n",
    "carrier=[]; sb1=[]; ratio=[]\n",
    "for LdB in loss_dB_vals:\n",
    "    A=10**(-LdB/20)\n",
    "    P0=(J0*A)**2; P1=(J1*A)**2\n",
    "    carrier.append(10*np.log10(P0+1e-30)); sb1.append(10*np.log10(P1+1e-30)); ratio.append(10*np.log10((P1/P0)+1e-30))\n",
    "import matplotlib.pyplot as plt\n",
    "fig,ax=plt.subplots(1,2,figsize=(11,4))\n",
    "ax[0].plot(loss_dB_vals, carrier, label=\"Carrier\"); ax[0].plot(loss_dB_vals, sb1, label=\"±1 sideband\")\n",
    "ax[0].set_xlabel(\"Insertion loss (dB)\"); ax[0].set_ylabel(\"Abs power (dB rel.)\"); ax[0].legend(); ax[0].set_title(\"Absolute levels\")\n",
    "ax[1].plot(loss_dB_vals, ratio); ax[1].set_xlabel(\"Insertion loss (dB)\"); ax[1].set_ylabel(\"P±1/P0 (dBc)\"); ax[1].set_title(\"Ratio (robust)\")\n",
    "plt.show()"
   ]
  }
 ],
 "metadata": {},
 "nbformat": 4,
 "nbformat_minor": 5
}
