{
 "cells": [
  {
   "cell_type": "markdown",
   "metadata": {},
   "source": [
    "# Hydride overlay example"
   ]
  },
  {
   "cell_type": "code",
   "execution_count": null,
   "metadata": {},
   "outputs": [],
   "source": [
    "!pip -q install rts-arp || pip -q install -e ."
   ]
  },
  {
   "cell_type": "code",
   "execution_count": null,
   "metadata": {},
   "outputs": [],
   "source": [
    "import subprocess, json, os, glob\n",
    "out_dir = \"example_out/hydride\"; os.makedirs(out_dir, exist_ok=True)\n",
    "subprocess.run([\n",
    "    \"rts\", \"hydride\",\n",
    "    \"--exp-csv\", \"sample_exp_H3S.csv\",\n",
    "    \"--dft-csv\", \"sample_dft_hydride_curves.csv\",\n",
    "    \"--out\", out_dir\n",
    "], check=True)\n",
    "\n",
    "# Display whatever PNG/JSON the script produced\n",
    "for p in glob.glob(out_dir + \"/*.png\"):\n",
    "    from IPython.display import Image, display\n",
    "    display(Image(filename=p))\n",
    "for j in glob.glob(out_dir + \"/*.json\"):\n",
    "    print(\"Report:\", j)\n",
    "    print(open(j).read()[:1000], \"...\")\n"
   ]
  }
 ],
 "metadata": {
  "kernelspec": {
   "display_name": "Python 3",
   "language": "python",
   "name": "python3"
  },
  "language_info": {
   "name": "python",
   "version": "3.x"
  }
 },
 "nbformat": 4,
 "nbformat_minor": 5
}
