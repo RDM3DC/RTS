{
 "cells": [
  {
   "cell_type": "markdown",
   "id": "e1f9de96",
   "metadata": {},
   "source": [
    "# Parametric Gates via ARP/πₐ Modulation\n",
    "This notebook estimates iSWAP and CZ gate rates from a parametric drive with phase-mod index β.\n",
    "We use small-PM Bessel dressing: $J_1(β)$ sets the effective coupling.\n",
    "These are **first-order**, control-facing numbers for planning; not a full Hamiltonian sim."
   ]
  },
  {
   "cell_type": "code",
   "execution_count": null,
   "id": "caf20a71",
   "metadata": {},
   "outputs": [],
   "source": [
    "import numpy as np\n",
    "from mpmath import besselj\n",
    "import matplotlib.pyplot as plt\n",
    "g0 = 50e6*2*np.pi  # rad/s\n",
    "T1=30e-6; Tphi=20e-6\n"
   ]
  },
  {
   "cell_type": "markdown",
   "id": "0a4de1ec",
   "metadata": {},
   "source": [
    "## iSWAP: $J_{\\rm eff} \\approx g_0 J_1(β)$"
   ]
  },
  {
   "cell_type": "code",
   "execution_count": null,
   "id": "330f0e03",
   "metadata": {},
   "outputs": [],
   "source": [
    "def J_eff_iswap(beta,g0):\n",
    "    from mpmath import besselj\n",
    "    return float(g0*besselj(1,beta))\n",
    "def gate_time_iswap(beta,g0):\n",
    "    J=J_eff_iswap(beta,g0)\n",
    "    return np.pi/(2*J) if J>0 else np.inf\n",
    "def decoh(beta,g0,T1,Tphi):\n",
    "    t=gate_time_iswap(beta,g0)\n",
    "    return float(np.exp(-t/T1)*np.exp(-t/Tphi)) if np.isfinite(t) else 0.0\n",
    "betas=np.linspace(0.01,0.35,80)\n",
    "tpis=[gate_time_iswap(b,g0) for b in betas]\n",
    "fids=[decoh(b,g0,T1,Tphi) for b in betas]\n",
    "fig,ax=plt.subplots(1,2,figsize=(10,4))\n",
    "ax[0].plot(betas, np.array(tpis)*1e9); ax[0].set_xlabel('β'); ax[0].set_ylabel('tπ (ns)'); ax[0].set_title('iSWAP tπ vs β')\n",
    "ax[1].plot(betas, fids); ax[1].set_xlabel('β'); ax[1].set_ylabel('F_decoh'); ax[1].set_title('Decoherence bound vs β'); plt.show()"
   ]
  },
  {
   "cell_type": "markdown",
   "id": "3c83ab87",
   "metadata": {},
   "source": [
    "## Detuning sensitivity"
   ]
  },
  {
   "cell_type": "code",
   "execution_count": null,
   "id": "1b90e091",
   "metadata": {},
   "outputs": [],
   "source": [
    "beta=0.15\n",
    "J=J_eff_iswap(beta,g0)\n",
    "Deltas=np.linspace(-20e6*2*np.pi,20e6*2*np.pi,201)\n",
    "tpi=gate_time_iswap(beta,g0)\n",
    "Ps=[]\n",
    "for d in Deltas:\n",
    "    Om=np.sqrt(J**2+d**2); Ps.append((J**2/(J**2+d**2))*np.sin(Om*tpi)**2)\n",
    "plt.figure(figsize=(6.8,4.2)); plt.plot(Deltas/(2*np.pi*1e6), Ps)\n",
    "plt.xlabel('Δ (MHz)'); plt.ylabel('Swap probability at tπ'); plt.title('iSWAP detuning sensitivity (β=0.15)'); plt.show()"
   ]
  },
  {
   "cell_type": "markdown",
   "id": "1efe1449",
   "metadata": {},
   "source": [
    "## CZ proxy via frequency modulation"
   ]
  },
  {
   "cell_type": "code",
   "execution_count": null,
   "id": "ce06dec9",
   "metadata": {},
   "outputs": [],
   "source": [
    "kappa=5e6*2*np.pi\n",
    "rates=[kappa*besselj(1,b) for b in betas]\n",
    "tpi=[(np.pi/r) if r>0 else np.inf for r in rates]\n",
    "plt.figure(figsize=(6.8,4.2)); plt.plot(betas, np.array(tpi)*1e9)\n",
    "plt.xlabel('β'); plt.ylabel('tπ (ns)'); plt.title('CZ time vs β (proxy)'); plt.show()"
   ]
  },
  {
   "cell_type": "markdown",
   "id": "972e4e10",
   "metadata": {},
   "source": [
    "**Notes:**\n",
    "- Use your measured β from sidebands to set gate rate: no free parameters.\n",
    "- Ramsey/echo removes the small carrier shift from the redshift channel before running gates.\n",
    "- For accurate fidelities, extend this with a full driven JC Hamiltonian + Lindblad."
   ]
  }
 ],
 "metadata": {},
 "nbformat": 4,
 "nbformat_minor": 5
}
